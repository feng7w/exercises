{
 "cells": [
  {
   "cell_type": "markdown",
   "metadata": {},
   "source": [
    "# 作业说明 \n",
    "本次作业分为以下三部分：\n",
    "\n",
    "1. SQL练习题\n",
    "2. PYTHON基础语法练习\n",
    "3. PYTHON第三方库练习\n",
    "\n",
    "需要注意的是，作业题必须独立自主完成，可以与同学在群里商量思路，但是**绝不可以直接讨论甚至发送答案**。 助教和老师也不会给予提示或者答案，所以请不要@老师和助教进行咨询！ \n",
    "\n",
    "作业将会在群内发布，需要大家按照群内提醒的要求进行作业提交，作业期限为3月4号, 作业讲解视频也会在3月4号发出\n"
   ]
  },
  {
   "cell_type": "markdown",
   "metadata": {},
   "source": [
    "<div class=\"burk\">\n",
    "作业请用个人姓名保存，比如 小明.ipynb,按照QQ群内要求上传提交作业！ 只能用window的最新版本QQ，不支持MAC！！</div><i class=\"fa fa-lightbulb-o \"></i>"
   ]
  },
  {
   "cell_type": "markdown",
   "metadata": {},
   "source": [
    "## SQL练习题\n",
    "\n",
    "<span class=\"mark\">sql练习题的代码请自行在mysql中进行撰写和测试，然后把代码复制粘贴到此文本中</span>"
   ]
  },
  {
   "cell_type": "markdown",
   "metadata": {},
   "source": [
    "使用workbench中自带的world数据库下的数据集\n",
    "\n",
    "1. 请根据countrycode将将三张表进行组合，并且计算出left join , full outer join, inner join 三种条件的数据条数。注意：full outer join 没有直接的支持方式，请另想途径\n",
    "2. 将上面题目1中的 inner join 筛选结果插入到一张临时表中，注意：该表不可以有重复的字段\n",
    "3. 在country表中，对region进行分组，筛选出分组内数据条数大于5的数据，对于满足条件的组计算population的平均数,GNP的平均数"
   ]
  },
  {
   "cell_type": "code",
   "execution_count": null,
   "metadata": {},
   "outputs": [],
   "source": [
    "use world;\n",
    "\n",
    "# 根据countrycode将三张表进行组合，计算出left join 的数据条数\n",
    "select count(*) from city \n",
    "left join country \n",
    "on city.CountryCode = country.Code \n",
    "left join countrylanguage \n",
    "on city.CountryCode = countrylanguage.CountryCode;\n",
    "\n",
    "# 根据countrycode将三张表进行组合，计算出full outer join 的数据条数\n",
    "select count(*) from city \n",
    "left join country \n",
    "on city.CountryCode = country.Code \n",
    "right join countrylanguage \n",
    "on city.CountryCode = countrylanguage.CountryCode;\n",
    "\n",
    "# 根据countrycode将三张表进行组合，计算出inner join 的数据条数\n",
    "select * from city \n",
    "inner join country on city.CountryCode = country.Code \n",
    "inner join countrylanguage \n",
    "on city.CountryCode = countrylanguage.CountryCode;\n",
    "\n",
    "# 将上题 inner join 筛选结果插入到一张临时表中，注意：该表不可以有重复的字段。\n",
    "create table if not exists linshibiao as select\n",
    "ID,a.Name as city_Name ,a.CountryCode as city_CountryCode,District,a.Population as city_Population,\n",
    "Code,b.Name as country_Name,Continent,Region,SurfaceArea,IndepYear,b.Population as country_Population,\n",
    "LifeExpectancy,GNP,GNPOld,LocalName,GovernmentForm,HeadOfState,Capital,Code2,\n",
    "c.CountryCode as countrylanguage_CountryCode,Language,IsOfficial,Percentage \n",
    "from city as a\n",
    "inner join country as b \n",
    "on a.CountryCode = b.Code \n",
    "inner join countrylanguage as c\n",
    "on a.CountryCode = c.CountryCode;\n",
    "\n",
    "# 在country表中，对region进行分组，筛选出分组内数据条数大于5的数据，对于满足条件的组计算population的平均数,GNP的平均数\n",
    "select Region,avg(Population)as avg_Pop,avg(GNP) as avg_GNP,count(Region) as count_Region from \n",
    "country group by Region having count(Region) > 5;"
   ]
  },
  {
   "cell_type": "markdown",
   "metadata": {},
   "source": [
    "## PYTHON基础语法练习题\n",
    "\n",
    "<span class=\"mark\">请注意，该部分练习题不得使用pandas,numpy等第三方库，python自带的标准库可以使用</span>"
   ]
  },
  {
   "cell_type": "markdown",
   "metadata": {},
   "source": [
    "### 第一题：字典序列"
   ]
  },
  {
   "cell_type": "code",
   "execution_count": null,
   "metadata": {},
   "outputs": [],
   "source": [
    "# 存在一个字典\n",
    "x_dir = {'a': 15,\n",
    " 'b': 16,\n",
    " 'c': 1,\n",
    " 'd': 2,\n",
    " 'e': 3,\n",
    " 'f': 8,\n",
    " 'g': 9,\n",
    " 'h': 10,\n",
    " 'i': 11,\n",
    " 'j': 12,\n",
    " 'k': 13,\n",
    " 'l': 14,\n",
    " 'm': 4,\n",
    " 'o': 5,\n",
    " 'p': 6,\n",
    " 'q': 7}\n",
    "\n",
    "# 请对字典的key进行逆序翻转，按照英文字母表反序进行排序存储在字典中，如下所示：\n",
    "#  ('q', 7),\n",
    "#  ('p', 6),\n",
    "#  ('o', 5),\n",
    "#  ('m', 4),\n",
    "#  ('l', 14),\n",
    "#  ('k', 13),\n",
    "#  ('j', 12),\n",
    "#  ('i', 11),\n",
    "#  ('h', 10),\n",
    "#  ('g', 9),\n",
    "#  ('f', 8),\n",
    "#  ('e', 3),\n",
    "#  ('d', 2),\n",
    "#  ('c', 1),\n",
    "#  ('b', 16),\n",
    "#  ('a', 15)\n",
    "\n",
    "# TIPS : 使用排序字典进行完成\n",
    "\n",
    "# Your code in here \n",
    "\n",
    "# 储存在字典\n",
    "from collections import OrderedDict\n",
    "\n",
    "OrderedDict(sorted(x_dir.items(), key=lambda s: s[0], reverse=True))"
   ]
  },
  {
   "cell_type": "markdown",
   "metadata": {},
   "source": [
    "### 第二题：查找符合要求的字符串"
   ]
  },
  {
   "cell_type": "code",
   "execution_count": null,
   "metadata": {},
   "outputs": [],
   "source": [
    "# 请在下面列表中查找 长度为3的字符串，并且只返回该字符串中间的字符，结果示例如下：\n",
    "# 长度为3的字符串：['age', '345', 'abb', 'wan', 'ttt']\n",
    "# 中间字符['g', '4', 'b', 'a', 't']\n",
    "\n",
    "x2 = ['a','b','name','age',193,'test','know','345','abb',['a','b','c'],False,'wan','ttt']\n",
    "\n",
    "# Your code in here ....\n",
    "list(i[1] for i in x2 if isinstance(i,str) and len(i) == 3)"
   ]
  },
  {
   "cell_type": "code",
   "execution_count": null,
   "metadata": {},
   "outputs": [],
   "source": [
    "list(map(lambda s : s[1], filter(lambda s : isinstance(s,str) and len(s) == 3, x2)))"
   ]
  },
  {
   "cell_type": "markdown",
   "metadata": {},
   "source": [
    "### 第三题：可变参数的debug\n",
    "\n",
    "请查看下方的代码， 1 + 2 + 3 + 3 + 4应该等于13，为什么运行出来的结果是12呢？"
   ]
  },
  {
   "cell_type": "code",
   "execution_count": null,
   "metadata": {},
   "outputs": [],
   "source": [
    "def complex_fun(name,home = \"shanghai\",*args,**kv):\n",
    "    if name ==\"xiaoming\":\n",
    "        r = 0\n",
    "        for i in args:\n",
    "            r = i + r\n",
    "        print(r)\n",
    "    elif name == \"xiaohong\":\n",
    "        for k,v in kv.items():\n",
    "            print(k,\":\",v)\n",
    "    else:\n",
    "        print(\"Not \"+ home)\n",
    "        \n",
    "a = [1,2,3,3,4]\n",
    "complex_fun(\"xiaoming\",*a,age=18,sex=\"male\")"
   ]
  },
  {
   "cell_type": "markdown",
   "metadata": {},
   "source": [
    "<div class=\"burk\">\n",
    "*你的解释*</div><i class=\"fa fa-lightbulb-o \"></i>\n",
    "\n",
    "在这里写出你的答案：\n",
    "变量home未指定，因此* a 将列表a中的元素1赋值给home，args=[2，3，3，4]，所以运行结果为12 "
   ]
  },
  {
   "cell_type": "code",
   "execution_count": null,
   "metadata": {},
   "outputs": [],
   "source": [
    "# 为什么输入“xiaogang\"就会报错？\n",
    "complex_fun(\"xiaogang\",*a,age=18,sex=\"male\")"
   ]
  },
  {
   "cell_type": "markdown",
   "metadata": {},
   "source": [
    "<span class=\"burk\">*你的解释*</span>\n",
    "\n",
    "在这里写出你的答案：\n",
    " home为变量而非字符串，* a 将home赋值为1，因此不能与字符串\"Not\"连接"
   ]
  },
  {
   "cell_type": "markdown",
   "metadata": {},
   "source": [
    "### 第四题 高阶函数的应用\n",
    "\n",
    "有一个列表数据如下： x = list(range(0,99999,3))\n",
    "\n",
    "要求：过滤出能被3整除的数据，然后结果的每一个数字进行反转。为了开销考虑，请使用生成器或者迭代器进行计算\n",
    "\n",
    "* example :\n",
    "    * 输入数据：x = [1,2,3,9,21,30,93,300]\n",
    "\n",
    "    * 结果：['3', '9', '12', '03', '39', '003']"
   ]
  },
  {
   "cell_type": "code",
   "execution_count": null,
   "metadata": {},
   "outputs": [],
   "source": [
    "# Your code here \n",
    "x = list(range(0,99999,3))\n",
    "list(map(lambda s : str(s)[::-1], filter(lambda s : s % 3 == 0, x)))"
   ]
  },
  {
   "cell_type": "markdown",
   "metadata": {},
   "source": [
    "### 第五题 文件操作\n",
    "\n",
    "<span class=\"girk\">请注意不得使用pandas库进行数据读取与操作，只能使用标准库open操作文件</span>\n",
    "\n",
    "1. 读取一个nba的二维数据，该文本第一行是标题名，列与列之间使用'\\t'进行分割\n",
    "2. 计算一下第一列”PLAYER“ 里每个字符串的长度\n",
    "3. 计算 height,weight两列的平均数是多少\n",
    "4. 根据 height和weight对数据进行过滤，只保留 height >=180,weight>=80的数据。 要求保留全部的列"
   ]
  },
  {
   "cell_type": "code",
   "execution_count": null,
   "metadata": {},
   "outputs": [],
   "source": [
    "# Your code in here\n",
    "with open(\"NBAPlayers.txt\") as nba :\n",
    "    lines = nba.readlines() #数据放进一个list"
   ]
  },
  {
   "cell_type": "code",
   "execution_count": null,
   "metadata": {},
   "outputs": [],
   "source": [
    "data  = list(list(line.split(sep='\\t')) for line in lines)"
   ]
  },
  {
   "cell_type": "code",
   "execution_count": null,
   "metadata": {},
   "outputs": [],
   "source": [
    "list(len(i[0]) for i in data[1:])"
   ]
  },
  {
   "cell_type": "code",
   "execution_count": null,
   "metadata": {},
   "outputs": [],
   "source": [
    "height = list(int(i[1]) for i in filter(lambda s : len(s[1]) > 0 ,data[1:]))"
   ]
  },
  {
   "cell_type": "code",
   "execution_count": null,
   "metadata": {
    "scrolled": false
   },
   "outputs": [],
   "source": [
    "print(sum(height)/len(height))"
   ]
  },
  {
   "cell_type": "code",
   "execution_count": null,
   "metadata": {},
   "outputs": [],
   "source": [
    "weight = list(int(i[2]) for i in filter(lambda s : len(s[2]) > 0 ,data[1:]))"
   ]
  },
  {
   "cell_type": "code",
   "execution_count": null,
   "metadata": {},
   "outputs": [],
   "source": [
    "print(sum(weight)/len(weight))"
   ]
  },
  {
   "cell_type": "code",
   "execution_count": null,
   "metadata": {},
   "outputs": [],
   "source": [
    "list(i for i in filter(lambda s : len(s[1]) > 0 and len(s[1]) > 0, data[1:]) if (int(i[1]) >= 180 and  int(i[2]) >= 80))"
   ]
  },
  {
   "cell_type": "code",
   "execution_count": null,
   "metadata": {},
   "outputs": [],
   "source": [
    "list(filter(lambda s : int(s[1]) >= 180 and  int(s[2]) >= 80, filter(lambda s : len(s[1]) > 0 and len(s[1]) > 0, data[1:])))"
   ]
  },
  {
   "cell_type": "markdown",
   "metadata": {
    "collapsed": true
   },
   "source": [
    "## PYTHON第三方库练习"
   ]
  },
  {
   "cell_type": "markdown",
   "metadata": {},
   "source": [
    "**数据介绍**\n",
    "![pokemon](https://timgsa.baidu.com/timg?image&quality=80&size=b9999_10000&sec=1519273683159&di=ea800becc2038a641af4c3535750cdf8&imgtype=0&src=http%3A%2F%2Fi1213.photobucket.com%2Falbums%2Fcc475%2Fkmkcorp%2FLogo%2Flogopokemon_zpsf752b3c3.jpg)\n",
    "This data set includes 721 Pokemon, including their number, name, first and second type, and basic stats: HP, Attack, Defense, Special Attack, Special Defense, and Speed. It has been of great use when teaching statistics to kids. With certain types you can also give a geeky introduction to machine learning.\n",
    "\n",
    "This are the raw attributes that are used for calculating how much damage an attack will do in the games. This dataset is about the pokemon games (NOT pokemon cards or Pokemon Go).\n",
    "\n",
    "The data as described by Myles O'Neill is:\n",
    "\n",
    "1. ID for each pokemon\n",
    "2. Name: Name of each pokemon\n",
    "3. Type 1: Each pokemon has a type, this determines weakness/resistance to attacks\n",
    "4. Type 2: Some pokemon are dual type and have 2\n",
    "5. Total: sum of all stats that come after this, a general guide to how strong a pokemon is\n",
    "6. HP: hit points, or health, defines how much damage a pokemon can withstand before fainting\n",
    "7. Attack: the base modifier for normal attacks (eg. Scratch, Punch)\n",
    "8. Defense: the base damage resistance against normal attacks\n",
    "9. SP Atk: special attack, the base modifier for special attacks (e.g. fire blast, bubble beam)\n",
    "10. SP Def: the base damage resistance against special attacks\n",
    "11. Speed: determines which pokemon attacks first each round"
   ]
  },
  {
   "cell_type": "markdown",
   "metadata": {},
   "source": [
    "### 第一题：使用pandas读取数据，并且将column的名字全部大写，确保前后无空格"
   ]
  },
  {
   "cell_type": "code",
   "execution_count": 1,
   "metadata": {},
   "outputs": [
    {
     "data": {
      "text/plain": [
       "Index(['NAME', 'TYPE 1', 'TYPE 2', 'TOTAL', 'HP', 'ATTACK', 'DEFENSE',\n",
       "       'SP. ATK', 'SP. DEF', 'SPEED', 'GENERATION', 'LEGENDARY'],\n",
       "      dtype='object')"
      ]
     },
     "execution_count": 1,
     "metadata": {},
     "output_type": "execute_result"
    }
   ],
   "source": [
    "import numpy as np\n",
    "import pandas as pd\n",
    "df = pd.read_csv(\"pokemon.txt\")\n",
    "df.rename(columns=lambda s : s.upper().strip(), inplace=True)\n",
    "df.columns"
   ]
  },
  {
   "cell_type": "markdown",
   "metadata": {},
   "source": [
    "### 第二题：使用seaborn可视化探索一下 HP 与 ATTACK之间的关系"
   ]
  },
  {
   "cell_type": "code",
   "execution_count": null,
   "metadata": {
    "scrolled": false
   },
   "outputs": [],
   "source": [
    "import matplotlib.pyplot as plt\n",
    "import seaborn as sns\n",
    "\n",
    "%matplotlib inline\n",
    "\n",
    "sns.jointplot(x=\"HP\", y=\"ATTACK\", data=df)"
   ]
  },
  {
   "cell_type": "markdown",
   "metadata": {},
   "source": [
    "### 第三题：分别根据TYPE1 与 TYPE2 绘制出 ATTACK的BOXPLOT(两幅BOXPLOT，要求使用subplot)"
   ]
  },
  {
   "cell_type": "code",
   "execution_count": 2,
   "metadata": {},
   "outputs": [
    {
     "name": "stdout",
     "output_type": "stream",
     "text": [
      "Populating the interactive namespace from numpy and matplotlib\n"
     ]
    },
    {
     "data": {
      "text/plain": [
       "<matplotlib.axes._subplots.AxesSubplot at 0x281af1f128>"
      ]
     },
     "execution_count": 2,
     "metadata": {},
     "output_type": "execute_result"
    },
    {
     "data": {
      "image/png": "[encoded data removed]",
      "text/plain": [
       "<Figure size 1152x720 with 211 Axes>"
      ]
     },
     "metadata": {
      "needs_background": "light"
     },
     "output_type": "display_data"
    },
    {
     "data": {
      "image/png": "[encoded data removed]",
      "text/plain": [
       "<Figure size 1152x720 with 212 Axes>"
      ]
     },
     "metadata": {
      "needs_background": "light"
     },
     "output_type": "display_data"
    }
   ],
   "source": [
    "import matplotlib.pyplot as plt\n",
    "import seaborn as sns\n",
    "%pylab inline\n",
    "\n",
    "pylab.rcParams['figure.figsize'] = (16, 10)\n",
    "\n",
    "plt.subplots(211)\n",
    "sns.boxplot(x=\"TYPE 1\", y=\"ATTACK\", data=df)\n",
    "\n",
    "plt.subplots(212)\n",
    "sns.boxplot(x=\"TYPE 2\", y=\"ATTACK\", data=df)"
   ]
  },
  {
   "cell_type": "markdown",
   "metadata": {},
   "source": [
    "### 第四题：创建新的一列，column名为 flag，要求如下：\n",
    "\n",
    "1. 计算total的百分25分位数，百分50分位数，百分75分位数 分别记 Q1,Q2,Q3\n",
    "2. 小于等于Q1，flag值为1，大于Q1小于等于Q2，flag值为2，大于Q2小于等于Q3，flag值为3"
   ]
  },
  {
   "cell_type": "code",
   "execution_count": null,
   "metadata": {},
   "outputs": [],
   "source": [
    "Q1 = df['TOTAL'].quantile(0.25)\n",
    "Q2 = df['TOTAL'].quantile(0.50)\n",
    "Q3 = df['TOTAL'].quantile(0.75)\n",
    "\n",
    "df.loc[(df['TOTAL'] <= Q1),\"flag\"] = 1\n",
    "df.loc[((df['TOTAL'] > Q1) & (df['TOTAL'] <= Q2)),\"flag\"] = 2\n",
    "df.loc[((df['TOTAL'] > Q2) & (df['TOTAL'] <= Q3)),\"flag\"] = 3"
   ]
  },
  {
   "cell_type": "code",
   "execution_count": null,
   "metadata": {
    "scrolled": true
   },
   "outputs": [],
   "source": [
    "df['flag'].value_counts()"
   ]
  },
  {
   "cell_type": "markdown",
   "metadata": {},
   "source": [
    "### 第五题：分组计算，要求如下：\n",
    "1. 将TYPE1,TYPE2设置为索引，据索引TYPE1,TYPE2进行数据分组，分组保存为变量G1\n",
    "2. 根据G1，计算 HP的平均数，ATTACK的中位数，SPEED的平均数\n",
    "3. G1过滤保留组内数据条数大于2的样本数据"
   ]
  },
  {
   "cell_type": "code",
   "execution_count": null,
   "metadata": {},
   "outputs": [],
   "source": [
    "G1 = df.set_index(['TYPE 1', 'TYPE 2']).groupby(['TYPE 1', 'TYPE 2'])"
   ]
  },
  {
   "cell_type": "code",
   "execution_count": null,
   "metadata": {},
   "outputs": [],
   "source": [
    "G1.agg({'HP' : np.mean, 'ATTACK' : np.median, 'SPEED' : np.mean})"
   ]
  },
  {
   "cell_type": "code",
   "execution_count": null,
   "metadata": {},
   "outputs": [],
   "source": [
    "G1.filter(lambda s : len(s) > 2)"
   ]
  },
  {
   "cell_type": "markdown",
   "metadata": {},
   "source": [
    "### 第六题：逻辑筛选\n",
    "要求取出符合以下要求的数据： TYPE1等于 Fire或者 Dragon  并且 TYPE2等于 Fire或者 Dragon"
   ]
  },
  {
   "cell_type": "code",
   "execution_count": null,
   "metadata": {},
   "outputs": [],
   "source": [
    "df.loc[((df['TYPE 1'] == 'Fire') | (df['TYPE 1'] == 'Dragon')) & \n",
    "       ((df['TYPE 2'] == 'Fire') | (df['TYPE 2'] == 'Dragon'))]"
   ]
  }
 ],
 "metadata": {
  "kernelspec": {
   "display_name": "Python 3",
   "language": "python",
   "name": "python3"
  },
  "language_info": {
   "codemirror_mode": {
    "name": "ipython",
    "version": 3
   },
   "file_extension": ".py",
   "mimetype": "text/x-python",
   "name": "python",
   "nbconvert_exporter": "python",
   "pygments_lexer": "ipython3",
   "version": "3.7.1"
  },
  "latex_envs": {
   "LaTeX_envs_menu_present": true,
   "autocomplete": true,
   "bibliofile": "biblio.bib",
   "cite_by": "apalike",
   "current_citInitial": 1,
   "eqLabelWithNumbers": true,
   "eqNumInitial": 1,
   "hotkeys": {
    "equation": "Ctrl-E",
    "itemize": "Ctrl-I"
   },
   "labels_anchors": false,
   "latex_user_defs": false,
   "report_style_numbering": false,
   "user_envs_cfg": false
  },
  "toc": {
   "nav_menu": {},
   "number_sections": true,
   "sideBar": true,
   "skip_h1_title": false,
   "toc_cell": false,
   "toc_position": {},
   "toc_section_display": "block",
   "toc_window_display": false
  }
 },
 "nbformat": 4,
 "nbformat_minor": 2
}
